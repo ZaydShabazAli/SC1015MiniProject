{
 "cells": [
  {
   "cell_type": "code",
   "execution_count": 1,
   "id": "b0b94dc3",
   "metadata": {
    "scrolled": true
   },
   "outputs": [
    {
     "name": "stdout",
     "output_type": "stream",
     "text": [
      "Requirement already satisfied: geopandas in c:\\users\\kejun\\anaconda3\\lib\\site-packages (0.14.3)Note: you may need to restart the kernel to use updated packages.\n",
      "\n",
      "Requirement already satisfied: fiona>=1.8.21 in c:\\users\\kejun\\anaconda3\\lib\\site-packages (from geopandas) (1.9.6)\n",
      "Requirement already satisfied: packaging in c:\\users\\kejun\\anaconda3\\lib\\site-packages (from geopandas) (23.1)\n",
      "Requirement already satisfied: pandas>=1.4.0 in c:\\users\\kejun\\anaconda3\\lib\\site-packages (from geopandas) (2.0.3)\n",
      "Requirement already satisfied: pyproj>=3.3.0 in c:\\users\\kejun\\anaconda3\\lib\\site-packages (from geopandas) (3.6.1)\n",
      "Requirement already satisfied: shapely>=1.8.0 in c:\\users\\kejun\\anaconda3\\lib\\site-packages (from geopandas) (2.0.3)\n",
      "Requirement already satisfied: attrs>=19.2.0 in c:\\users\\kejun\\anaconda3\\lib\\site-packages (from fiona>=1.8.21->geopandas) (22.1.0)\n",
      "Requirement already satisfied: certifi in c:\\users\\kejun\\anaconda3\\lib\\site-packages (from fiona>=1.8.21->geopandas) (2023.11.17)\n",
      "Requirement already satisfied: click~=8.0 in c:\\users\\kejun\\anaconda3\\lib\\site-packages (from fiona>=1.8.21->geopandas) (8.0.4)\n",
      "Requirement already satisfied: click-plugins>=1.0 in c:\\users\\kejun\\anaconda3\\lib\\site-packages (from fiona>=1.8.21->geopandas) (1.1.1)\n",
      "Requirement already satisfied: cligj>=0.5 in c:\\users\\kejun\\anaconda3\\lib\\site-packages (from fiona>=1.8.21->geopandas) (0.7.2)\n",
      "Requirement already satisfied: six in c:\\users\\kejun\\anaconda3\\lib\\site-packages (from fiona>=1.8.21->geopandas) (1.16.0)\n",
      "Requirement already satisfied: python-dateutil>=2.8.2 in c:\\users\\kejun\\anaconda3\\lib\\site-packages (from pandas>=1.4.0->geopandas) (2.8.2)\n",
      "Requirement already satisfied: pytz>=2020.1 in c:\\users\\kejun\\anaconda3\\lib\\site-packages (from pandas>=1.4.0->geopandas) (2023.3.post1)\n",
      "Requirement already satisfied: tzdata>=2022.1 in c:\\users\\kejun\\anaconda3\\lib\\site-packages (from pandas>=1.4.0->geopandas) (2023.3)\n",
      "Requirement already satisfied: numpy>=1.21.0 in c:\\users\\kejun\\anaconda3\\lib\\site-packages (from pandas>=1.4.0->geopandas) (1.24.3)\n",
      "Requirement already satisfied: colorama in c:\\users\\kejun\\anaconda3\\lib\\site-packages (from click~=8.0->fiona>=1.8.21->geopandas) (0.4.6)\n"
     ]
    }
   ],
   "source": [
    " %pip install geopandas                                                     "
   ]
  },
  {
   "cell_type": "code",
   "execution_count": 2,
   "id": "7d57f74c",
   "metadata": {},
   "outputs": [],
   "source": [
    "# Basic Libraries\n",
    "import numpy as np\n",
    "import os\n",
    "import pandas as pd\n",
    "import seaborn as sb\n",
    "import geopandas as gpd\n",
    "import matplotlib.pyplot as plt # we only need pyplot\n",
    "sb.set() # set the default Seaborn style for graphics"
   ]
  },
  {
   "cell_type": "code",
   "execution_count": null,
   "id": "be91a8a3",
   "metadata": {},
   "outputs": [],
   "source": [
    "## Reading file 17. ##\n",
    "data1 = pd.read_csv('17_Case_reported_and_value_of_property_taken_away_by_place_of_occurrence_2001_2012.csv')\n",
    "data2 = pd.read_csv('17_Crime_by_place_of_occurrence_2001_2012.csv')\n",
    "#data1.info()\n",
    "#data2.info()"
   ]
  },
  {
   "cell_type": "code",
   "execution_count": null,
   "id": "8105bc4e",
   "metadata": {},
   "outputs": [],
   "source": [
    "## Filtering out data from file 17. to 2001-2010 only, as datasets contains data from 2001-2012 ##\n",
    "\n",
    "df17_filtered1 = data1[data1['YEAR'] <= 2010]\n",
    "df17_filtered2 = data2[data2['YEAR'] <= 2010]\n",
    "\n",
    "## Converting it back to a CSV file ##\n",
    "df17_filtered1.to_csv('17_Case_reported_and_value_of_property_taken_away_by_place_of_occurrence_2001_2010.csv', index=False)\n",
    "df17_filtered2.to_csv('17_Crime_by_place_of_occurrence_2001_2010.csv', index=False)\n",
    "\n",
    "path1 = ['10_Property_stolen_and_recovered.csv', '11_Property_stolen_and_recovered_nature_of_property.csv', '17_Case_reported_and_value_of_property_taken_away_by_place_of_occurrence_2001_2010.csv', '17_Crime_by_place_of_occurrence_2001_2010.csv']\n",
    "path2 = ['12_Police_strength_actual_and_sanctioned.csv']\n",
    "path3 = ['23_Anti_corruprion_cases.csv', '24_Anti_corruption_arrests.csv', '25_Complaints_against_police.csv', '35_Human_rights_violation_by_police.csv']"
   ]
  },
  {
   "cell_type": "code",
   "execution_count": null,
   "id": "b13db153",
   "metadata": {},
   "outputs": [],
   "source": [
    "dfs1 = [] #10, 11, 17\n",
    "dfs2 = [] #12\n",
    "dfs3 = [] #23, 24, 25, 35\n",
    "\n",
    "# for dfs1\n",
    "for file_path in path1:\n",
    "    df = pd.read_csv(file_path)\n",
    "    dfs1.append(df)\n",
    "    \n",
    "# for dfs2\n",
    "for file_path in path2:\n",
    "    df = pd.read_csv(file_path)\n",
    "    dfs2.append(df)\n",
    "    \n",
    "# for dfs3\n",
    "for file_path in path3:\n",
    "    df = pd.read_csv(file_path)\n",
    "    dfs3.append(df)"
   ]
  },
  {
   "cell_type": "code",
   "execution_count": null,
   "id": "9980ee2e",
   "metadata": {},
   "outputs": [],
   "source": [
    "combined_df2 = pd.concat(dfs2, ignore_index=True, join='outer', keys='Year')\n",
    "#combined_df.head(n=50)\n",
    "\n",
    "police_df = pd.DataFrame(combined_df2.groupby(['Area_Name']).sum().reset_index())\n",
    "police_df = police_df.drop(columns = ['Year'])\n",
    "#police_df"
   ]
  },
  {
   "cell_type": "code",
   "execution_count": null,
   "id": "f65765e3",
   "metadata": {},
   "outputs": [],
   "source": [
    "combined_df1 = pd.concat(dfs1, ignore_index=True, join='outer', keys='Year')\n",
    "#combined_df.head(n=50)\n",
    "\n",
    "property_df = pd.DataFrame(combined_df1.groupby(['Area_Name']).sum().reset_index())\n",
    "property_df = property_df.drop(columns = ['Year'])\n",
    "#property_df"
   ]
  },
  {
   "cell_type": "code",
   "execution_count": null,
   "id": "ca897170",
   "metadata": {},
   "outputs": [],
   "source": [
    "combined_df3 = pd.concat(dfs3, ignore_index=True, join='outer', keys='Year')\n",
    "#combined_df.head(n=50)\n",
    "\n",
    "corruption_df = pd.DataFrame(combined_df3.groupby(['Area_Name']).sum().reset_index())\n",
    "corruption_df = corruption_df.drop(columns = ['Year'])\n",
    "#corruption_df"
   ]
  },
  {
   "cell_type": "code",
   "execution_count": null,
   "id": "4d098b60",
   "metadata": {},
   "outputs": [],
   "source": [
    "## Total Columns = 75 + 50 + 15 + = 140 ##\n",
    "\n",
    "max_df = pd.concat([property_df, corruption_df, police_df], join='outer', keys='Year', axis=1)\n",
    "max_df"
   ]
  },
  {
   "cell_type": "code",
   "execution_count": null,
   "id": "978b3124",
   "metadata": {},
   "outputs": [],
   "source": [
    "max_df.info()"
   ]
  },
  {
   "cell_type": "code",
   "execution_count": null,
   "id": "fc4d5e13",
   "metadata": {},
   "outputs": [],
   "source": []
  },
  {
   "cell_type": "code",
   "execution_count": null,
   "id": "26efabc2",
   "metadata": {},
   "outputs": [],
   "source": []
  },
  {
   "cell_type": "code",
   "execution_count": null,
   "id": "36511cda",
   "metadata": {},
   "outputs": [],
   "source": []
  },
  {
   "cell_type": "markdown",
   "id": "248ae877",
   "metadata": {},
   "source": [
    "# Starting EDA (Police Strength)"
   ]
  },
  {
   "cell_type": "markdown",
   "id": "66f52405",
   "metadata": {},
   "source": [
    "Which state has the greatest police strength? "
   ]
  },
  {
   "cell_type": "code",
   "execution_count": 3,
   "id": "93bc7203",
   "metadata": {},
   "outputs": [
    {
     "ename": "NameError",
     "evalue": "name 'max_df' is not defined",
     "output_type": "error",
     "traceback": [
      "\u001b[1;31m---------------------------------------------------------------------------\u001b[0m",
      "\u001b[1;31mNameError\u001b[0m                                 Traceback (most recent call last)",
      "Cell \u001b[1;32mIn[3], line 2\u001b[0m\n\u001b[0;32m      1\u001b[0m \u001b[38;5;66;03m# Multi-Index present\u001b[39;00m\n\u001b[1;32m----> 2\u001b[0m \u001b[38;5;28mprint\u001b[39m(max_df\u001b[38;5;241m.\u001b[39mcolumns)\n",
      "\u001b[1;31mNameError\u001b[0m: name 'max_df' is not defined"
     ]
    }
   ],
   "source": []
  },
  {
   "cell_type": "code",
   "execution_count": null,
   "id": "6e454f79",
   "metadata": {},
   "outputs": [],
   "source": []
  },
  {
   "cell_type": "code",
   "execution_count": null,
   "id": "2a8fb283",
   "metadata": {},
   "outputs": [],
   "source": []
  },
  {
   "cell_type": "code",
   "execution_count": null,
   "id": "f3f6339a",
   "metadata": {},
   "outputs": [],
   "source": []
  },
  {
   "cell_type": "code",
   "execution_count": null,
   "id": "e46de592",
   "metadata": {},
   "outputs": [],
   "source": []
  }
 ],
 "metadata": {
  "kernelspec": {
   "display_name": "Python 3 (ipykernel)",
   "language": "python",
   "name": "python3"
  },
  "language_info": {
   "codemirror_mode": {
    "name": "ipython",
    "version": 3
   },
   "file_extension": ".py",
   "mimetype": "text/x-python",
   "name": "python",
   "nbconvert_exporter": "python",
   "pygments_lexer": "ipython3",
   "version": "3.11.5"
  }
 },
 "nbformat": 4,
 "nbformat_minor": 5
}
