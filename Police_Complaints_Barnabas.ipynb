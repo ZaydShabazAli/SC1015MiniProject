{
 "cells": [
  {
   "cell_type": "markdown",
   "id": "3477a2d6",
   "metadata": {},
   "source": [
    "# Rape reported based on the no. of complaints against the police?"
   ]
  },
  {
   "cell_type": "code",
   "execution_count": 1,
   "id": "3c7cc46a",
   "metadata": {},
   "outputs": [],
   "source": [
    "# Basic Libraries\n",
    "import numpy as np\n",
    "import os\n",
    "import pandas as pd\n",
    "import seaborn as sb\n",
    "import matplotlib.pyplot as plt # we only need pyplot\n",
    "sb.set() # set the default Seaborn style for graphics"
   ]
  },
  {
   "cell_type": "code",
   "execution_count": 2,
   "id": "9c04dc7a",
   "metadata": {},
   "outputs": [],
   "source": [
    "# Reading Files\n",
    "\n",
    "complaints_against_police = pd.read_csv('25_Complaints_against_police.csv')\n",
    "\n",
    "crimes_against_women = pd.read_csv('42_District_wise_crimes_committed_against_women_2001_2012.csv')"
   ]
  },
  {
   "cell_type": "markdown",
   "id": "aca09b4f",
   "metadata": {},
   "source": [
    "# Data Cleaning"
   ]
  },
  {
   "cell_type": "code",
   "execution_count": 3,
   "id": "d51ca77d",
   "metadata": {
    "scrolled": true
   },
   "outputs": [
    {
     "name": "stdout",
     "output_type": "stream",
     "text": [
      "<class 'pandas.core.frame.DataFrame'>\n",
      "RangeIndex: 350 entries, 0 to 349\n",
      "Data columns (total 22 columns):\n",
      " #   Column                                                           Non-Null Count  Dtype \n",
      "---  ------                                                           --------------  ----- \n",
      " 0   Area_Name                                                        350 non-null    object\n",
      " 1   Year                                                             350 non-null    int64 \n",
      " 2   Sub_group                                                        350 non-null    object\n",
      " 3   CPA_-_Cases_Registered                                           350 non-null    int64 \n",
      " 4   CPA_-_Cases_Reported_for_Dept._Action                            350 non-null    int64 \n",
      " 5   CPA_-_Complaints/Cases_Declared_False/Unsubstantiated            350 non-null    int64 \n",
      " 6   CPA_-_Complaints_Received/Alleged                                350 non-null    int64 \n",
      " 7   CPA_-_No_of_Departmental_Enquiries                               350 non-null    int64 \n",
      " 8   CPA_-_No_of_Magisterial_Enquiries                                350 non-null    int64 \n",
      " 9   CPA-_Cases_Sent_for_Trials/Charge-sheeted                        350 non-null    int64 \n",
      " 10  CPA-_No_of_Judicial_Enquiries                                    350 non-null    int64 \n",
      " 11  CPB_-_Police_Personnel_Acquitted                                 350 non-null    int64 \n",
      " 12  CPB_-_Police_Personnel_Convicted                                 350 non-null    int64 \n",
      " 13  CPB_-_Police_Personnel_sent_up_for_Trial                         350 non-null    int64 \n",
      " 14  CPB_-_Police_Personnel_Trial_Completed                           350 non-null    int64 \n",
      " 15  CPB-_Police_Personnel_Cases_Withdrawn_or_Otherwise_disposed_of   350 non-null    int64 \n",
      " 16  CPC_-_Police_personnel_Cases_Trial_Completed                     350 non-null    int64 \n",
      " 17  CPC_-_Police_Personnel_Cases_Withdrawn_or_Otherwise_disposed_of  350 non-null    int64 \n",
      " 18  CPC_-_Police_Personnel_Disciplinary_Action_Initiated             350 non-null    int64 \n",
      " 19  CPC_-_Police_Personnel_Dismissal/Removal_from_Service            350 non-null    int64 \n",
      " 20  CPC_-_Police_Personnel_Major_Punishment_awarded                  350 non-null    int64 \n",
      " 21  CPC_-_Police_Personnel_Minor_Punishment_awarded                  350 non-null    int64 \n",
      "dtypes: int64(20), object(2)\n",
      "memory usage: 60.3+ KB\n"
     ]
    },
    {
     "data": {
      "text/html": [
       "<div>\n",
       "<style scoped>\n",
       "    .dataframe tbody tr th:only-of-type {\n",
       "        vertical-align: middle;\n",
       "    }\n",
       "\n",
       "    .dataframe tbody tr th {\n",
       "        vertical-align: top;\n",
       "    }\n",
       "\n",
       "    .dataframe thead th {\n",
       "        text-align: right;\n",
       "    }\n",
       "</style>\n",
       "<table border=\"1\" class=\"dataframe\">\n",
       "  <thead>\n",
       "    <tr style=\"text-align: right;\">\n",
       "      <th></th>\n",
       "      <th>Area_Name</th>\n",
       "      <th>Year</th>\n",
       "      <th>Sub_group</th>\n",
       "      <th>CPA_-_Cases_Registered</th>\n",
       "      <th>CPA_-_Cases_Reported_for_Dept._Action</th>\n",
       "      <th>CPA_-_Complaints/Cases_Declared_False/Unsubstantiated</th>\n",
       "      <th>CPA_-_Complaints_Received/Alleged</th>\n",
       "      <th>CPA_-_No_of_Departmental_Enquiries</th>\n",
       "      <th>CPA_-_No_of_Magisterial_Enquiries</th>\n",
       "      <th>CPA-_Cases_Sent_for_Trials/Charge-sheeted</th>\n",
       "      <th>...</th>\n",
       "      <th>CPB_-_Police_Personnel_Convicted</th>\n",
       "      <th>CPB_-_Police_Personnel_sent_up_for_Trial</th>\n",
       "      <th>CPB_-_Police_Personnel_Trial_Completed</th>\n",
       "      <th>CPB-_Police_Personnel_Cases_Withdrawn_or_Otherwise_disposed_of</th>\n",
       "      <th>CPC_-_Police_personnel_Cases_Trial_Completed</th>\n",
       "      <th>CPC_-_Police_Personnel_Cases_Withdrawn_or_Otherwise_disposed_of</th>\n",
       "      <th>CPC_-_Police_Personnel_Disciplinary_Action_Initiated</th>\n",
       "      <th>CPC_-_Police_Personnel_Dismissal/Removal_from_Service</th>\n",
       "      <th>CPC_-_Police_Personnel_Major_Punishment_awarded</th>\n",
       "      <th>CPC_-_Police_Personnel_Minor_Punishment_awarded</th>\n",
       "    </tr>\n",
       "  </thead>\n",
       "  <tbody>\n",
       "    <tr>\n",
       "      <th>0</th>\n",
       "      <td>Andaman &amp; Nicobar Islands</td>\n",
       "      <td>2001</td>\n",
       "      <td>Complaints Against Police Personnel</td>\n",
       "      <td>10</td>\n",
       "      <td>4</td>\n",
       "      <td>0</td>\n",
       "      <td>10</td>\n",
       "      <td>4</td>\n",
       "      <td>0</td>\n",
       "      <td>5</td>\n",
       "      <td>...</td>\n",
       "      <td>0</td>\n",
       "      <td>5</td>\n",
       "      <td>1</td>\n",
       "      <td>0</td>\n",
       "      <td>6</td>\n",
       "      <td>25</td>\n",
       "      <td>73</td>\n",
       "      <td>2</td>\n",
       "      <td>11</td>\n",
       "      <td>20</td>\n",
       "    </tr>\n",
       "    <tr>\n",
       "      <th>1</th>\n",
       "      <td>Andhra Pradesh</td>\n",
       "      <td>2001</td>\n",
       "      <td>Complaints Against Police Personnel</td>\n",
       "      <td>3078</td>\n",
       "      <td>72</td>\n",
       "      <td>109</td>\n",
       "      <td>3229</td>\n",
       "      <td>160</td>\n",
       "      <td>2969</td>\n",
       "      <td>3039</td>\n",
       "      <td>...</td>\n",
       "      <td>3</td>\n",
       "      <td>92</td>\n",
       "      <td>15</td>\n",
       "      <td>16</td>\n",
       "      <td>23</td>\n",
       "      <td>476</td>\n",
       "      <td>1506</td>\n",
       "      <td>47</td>\n",
       "      <td>248</td>\n",
       "      <td>1085</td>\n",
       "    </tr>\n",
       "    <tr>\n",
       "      <th>2</th>\n",
       "      <td>Arunachal Pradesh</td>\n",
       "      <td>2001</td>\n",
       "      <td>Complaints Against Police Personnel</td>\n",
       "      <td>24</td>\n",
       "      <td>39</td>\n",
       "      <td>5</td>\n",
       "      <td>54</td>\n",
       "      <td>44</td>\n",
       "      <td>0</td>\n",
       "      <td>17</td>\n",
       "      <td>...</td>\n",
       "      <td>0</td>\n",
       "      <td>17</td>\n",
       "      <td>0</td>\n",
       "      <td>1</td>\n",
       "      <td>8</td>\n",
       "      <td>43</td>\n",
       "      <td>107</td>\n",
       "      <td>4</td>\n",
       "      <td>17</td>\n",
       "      <td>15</td>\n",
       "    </tr>\n",
       "    <tr>\n",
       "      <th>3</th>\n",
       "      <td>Assam</td>\n",
       "      <td>2001</td>\n",
       "      <td>Complaints Against Police Personnel</td>\n",
       "      <td>17</td>\n",
       "      <td>3</td>\n",
       "      <td>1</td>\n",
       "      <td>52</td>\n",
       "      <td>52</td>\n",
       "      <td>3</td>\n",
       "      <td>9</td>\n",
       "      <td>...</td>\n",
       "      <td>0</td>\n",
       "      <td>7</td>\n",
       "      <td>1</td>\n",
       "      <td>1</td>\n",
       "      <td>0</td>\n",
       "      <td>7</td>\n",
       "      <td>144</td>\n",
       "      <td>5</td>\n",
       "      <td>61</td>\n",
       "      <td>102</td>\n",
       "    </tr>\n",
       "    <tr>\n",
       "      <th>4</th>\n",
       "      <td>Bihar</td>\n",
       "      <td>2001</td>\n",
       "      <td>Complaints Against Police Personnel</td>\n",
       "      <td>1</td>\n",
       "      <td>1</td>\n",
       "      <td>12</td>\n",
       "      <td>125</td>\n",
       "      <td>3</td>\n",
       "      <td>15</td>\n",
       "      <td>18</td>\n",
       "      <td>...</td>\n",
       "      <td>0</td>\n",
       "      <td>81</td>\n",
       "      <td>0</td>\n",
       "      <td>6</td>\n",
       "      <td>537</td>\n",
       "      <td>141</td>\n",
       "      <td>1385</td>\n",
       "      <td>33</td>\n",
       "      <td>470</td>\n",
       "      <td>1557</td>\n",
       "    </tr>\n",
       "  </tbody>\n",
       "</table>\n",
       "<p>5 rows × 22 columns</p>\n",
       "</div>"
      ],
      "text/plain": [
       "                   Area_Name  Year                            Sub_group  \\\n",
       "0  Andaman & Nicobar Islands  2001  Complaints Against Police Personnel   \n",
       "1             Andhra Pradesh  2001  Complaints Against Police Personnel   \n",
       "2          Arunachal Pradesh  2001  Complaints Against Police Personnel   \n",
       "3                      Assam  2001  Complaints Against Police Personnel   \n",
       "4                      Bihar  2001  Complaints Against Police Personnel   \n",
       "\n",
       "   CPA_-_Cases_Registered  CPA_-_Cases_Reported_for_Dept._Action  \\\n",
       "0                      10                                      4   \n",
       "1                    3078                                     72   \n",
       "2                      24                                     39   \n",
       "3                      17                                      3   \n",
       "4                       1                                      1   \n",
       "\n",
       "   CPA_-_Complaints/Cases_Declared_False/Unsubstantiated  \\\n",
       "0                                                  0       \n",
       "1                                                109       \n",
       "2                                                  5       \n",
       "3                                                  1       \n",
       "4                                                 12       \n",
       "\n",
       "   CPA_-_Complaints_Received/Alleged  CPA_-_No_of_Departmental_Enquiries  \\\n",
       "0                                 10                                   4   \n",
       "1                               3229                                 160   \n",
       "2                                 54                                  44   \n",
       "3                                 52                                  52   \n",
       "4                                125                                   3   \n",
       "\n",
       "   CPA_-_No_of_Magisterial_Enquiries  \\\n",
       "0                                  0   \n",
       "1                               2969   \n",
       "2                                  0   \n",
       "3                                  3   \n",
       "4                                 15   \n",
       "\n",
       "   CPA-_Cases_Sent_for_Trials/Charge-sheeted  ...  \\\n",
       "0                                          5  ...   \n",
       "1                                       3039  ...   \n",
       "2                                         17  ...   \n",
       "3                                          9  ...   \n",
       "4                                         18  ...   \n",
       "\n",
       "   CPB_-_Police_Personnel_Convicted  CPB_-_Police_Personnel_sent_up_for_Trial  \\\n",
       "0                                 0                                         5   \n",
       "1                                 3                                        92   \n",
       "2                                 0                                        17   \n",
       "3                                 0                                         7   \n",
       "4                                 0                                        81   \n",
       "\n",
       "   CPB_-_Police_Personnel_Trial_Completed  \\\n",
       "0                                       1   \n",
       "1                                      15   \n",
       "2                                       0   \n",
       "3                                       1   \n",
       "4                                       0   \n",
       "\n",
       "   CPB-_Police_Personnel_Cases_Withdrawn_or_Otherwise_disposed_of  \\\n",
       "0                                                  0                \n",
       "1                                                 16                \n",
       "2                                                  1                \n",
       "3                                                  1                \n",
       "4                                                  6                \n",
       "\n",
       "   CPC_-_Police_personnel_Cases_Trial_Completed  \\\n",
       "0                                             6   \n",
       "1                                            23   \n",
       "2                                             8   \n",
       "3                                             0   \n",
       "4                                           537   \n",
       "\n",
       "   CPC_-_Police_Personnel_Cases_Withdrawn_or_Otherwise_disposed_of  \\\n",
       "0                                                 25                 \n",
       "1                                                476                 \n",
       "2                                                 43                 \n",
       "3                                                  7                 \n",
       "4                                                141                 \n",
       "\n",
       "   CPC_-_Police_Personnel_Disciplinary_Action_Initiated  \\\n",
       "0                                                 73      \n",
       "1                                               1506      \n",
       "2                                                107      \n",
       "3                                                144      \n",
       "4                                               1385      \n",
       "\n",
       "   CPC_-_Police_Personnel_Dismissal/Removal_from_Service  \\\n",
       "0                                                  2       \n",
       "1                                                 47       \n",
       "2                                                  4       \n",
       "3                                                  5       \n",
       "4                                                 33       \n",
       "\n",
       "   CPC_-_Police_Personnel_Major_Punishment_awarded  \\\n",
       "0                                               11   \n",
       "1                                              248   \n",
       "2                                               17   \n",
       "3                                               61   \n",
       "4                                              470   \n",
       "\n",
       "   CPC_-_Police_Personnel_Minor_Punishment_awarded  \n",
       "0                                               20  \n",
       "1                                             1085  \n",
       "2                                               15  \n",
       "3                                              102  \n",
       "4                                             1557  \n",
       "\n",
       "[5 rows x 22 columns]"
      ]
     },
     "execution_count": 3,
     "metadata": {},
     "output_type": "execute_result"
    }
   ],
   "source": [
    "# <<complaints against police (CPA_-_Complaints_Received/Alleged)>>\n",
    "\n",
    "complaints_against_police.info()\n",
    "complaints_against_police.head()"
   ]
  },
  {
   "cell_type": "code",
   "execution_count": 4,
   "id": "9c0248d6",
   "metadata": {
    "scrolled": true
   },
   "outputs": [
    {
     "name": "stdout",
     "output_type": "stream",
     "text": [
      "<class 'pandas.core.frame.DataFrame'>\n",
      "RangeIndex: 350 entries, 0 to 349\n",
      "Data columns (total 3 columns):\n",
      " #   Column                             Non-Null Count  Dtype \n",
      "---  ------                             --------------  ----- \n",
      " 0   Area_Name                          350 non-null    object\n",
      " 1   Year                               350 non-null    int64 \n",
      " 2   CPA_-_Complaints_Received/Alleged  350 non-null    int64 \n",
      "dtypes: int64(2), object(1)\n",
      "memory usage: 8.3+ KB\n"
     ]
    },
    {
     "data": {
      "text/html": [
       "<div>\n",
       "<style scoped>\n",
       "    .dataframe tbody tr th:only-of-type {\n",
       "        vertical-align: middle;\n",
       "    }\n",
       "\n",
       "    .dataframe tbody tr th {\n",
       "        vertical-align: top;\n",
       "    }\n",
       "\n",
       "    .dataframe thead th {\n",
       "        text-align: right;\n",
       "    }\n",
       "</style>\n",
       "<table border=\"1\" class=\"dataframe\">\n",
       "  <thead>\n",
       "    <tr style=\"text-align: right;\">\n",
       "      <th></th>\n",
       "      <th>Area_Name</th>\n",
       "      <th>Year</th>\n",
       "      <th>CPA_-_Complaints_Received/Alleged</th>\n",
       "    </tr>\n",
       "  </thead>\n",
       "  <tbody>\n",
       "    <tr>\n",
       "      <th>0</th>\n",
       "      <td>Andaman &amp; Nicobar Islands</td>\n",
       "      <td>2001</td>\n",
       "      <td>10</td>\n",
       "    </tr>\n",
       "    <tr>\n",
       "      <th>1</th>\n",
       "      <td>Andhra Pradesh</td>\n",
       "      <td>2001</td>\n",
       "      <td>3229</td>\n",
       "    </tr>\n",
       "    <tr>\n",
       "      <th>2</th>\n",
       "      <td>Arunachal Pradesh</td>\n",
       "      <td>2001</td>\n",
       "      <td>54</td>\n",
       "    </tr>\n",
       "    <tr>\n",
       "      <th>3</th>\n",
       "      <td>Assam</td>\n",
       "      <td>2001</td>\n",
       "      <td>52</td>\n",
       "    </tr>\n",
       "    <tr>\n",
       "      <th>4</th>\n",
       "      <td>Bihar</td>\n",
       "      <td>2001</td>\n",
       "      <td>125</td>\n",
       "    </tr>\n",
       "  </tbody>\n",
       "</table>\n",
       "</div>"
      ],
      "text/plain": [
       "                   Area_Name  Year  CPA_-_Complaints_Received/Alleged\n",
       "0  Andaman & Nicobar Islands  2001                                 10\n",
       "1             Andhra Pradesh  2001                               3229\n",
       "2          Arunachal Pradesh  2001                                 54\n",
       "3                      Assam  2001                                 52\n",
       "4                      Bihar  2001                                125"
      ]
     },
     "execution_count": 4,
     "metadata": {},
     "output_type": "execute_result"
    }
   ],
   "source": [
    "# extract Area_Name, Year, CPA_-_Complaints_Received/Alleged columns\n",
    "\n",
    "CPA_raw = complaints_against_police[['Area_Name', 'Year', 'CPA_-_Complaints_Received/Alleged']]\n",
    "CPA_raw.info()\n",
    "CPA_raw.head()"
   ]
  },
  {
   "cell_type": "code",
   "execution_count": 5,
   "id": "5d4e5130",
   "metadata": {},
   "outputs": [
    {
     "name": "stdout",
     "output_type": "stream",
     "text": [
      "<class 'pandas.core.frame.DataFrame'>\n",
      "RangeIndex: 35 entries, 0 to 34\n",
      "Data columns (total 2 columns):\n",
      " #   Column                             Non-Null Count  Dtype \n",
      "---  ------                             --------------  ----- \n",
      " 0   Area_Name                          35 non-null     object\n",
      " 1   CPA_-_Complaints_Received/Alleged  35 non-null     int64 \n",
      "dtypes: int64(1), object(1)\n",
      "memory usage: 692.0+ bytes\n"
     ]
    },
    {
     "data": {
      "text/html": [
       "<div>\n",
       "<style scoped>\n",
       "    .dataframe tbody tr th:only-of-type {\n",
       "        vertical-align: middle;\n",
       "    }\n",
       "\n",
       "    .dataframe tbody tr th {\n",
       "        vertical-align: top;\n",
       "    }\n",
       "\n",
       "    .dataframe thead th {\n",
       "        text-align: right;\n",
       "    }\n",
       "</style>\n",
       "<table border=\"1\" class=\"dataframe\">\n",
       "  <thead>\n",
       "    <tr style=\"text-align: right;\">\n",
       "      <th></th>\n",
       "      <th>Area_Name</th>\n",
       "      <th>CPA_-_Complaints_Received/Alleged</th>\n",
       "    </tr>\n",
       "  </thead>\n",
       "  <tbody>\n",
       "    <tr>\n",
       "      <th>0</th>\n",
       "      <td>Andaman &amp; Nicobar Islands</td>\n",
       "      <td>288</td>\n",
       "    </tr>\n",
       "    <tr>\n",
       "      <th>1</th>\n",
       "      <td>Andhra Pradesh</td>\n",
       "      <td>22635</td>\n",
       "    </tr>\n",
       "    <tr>\n",
       "      <th>2</th>\n",
       "      <td>Arunachal Pradesh</td>\n",
       "      <td>647</td>\n",
       "    </tr>\n",
       "    <tr>\n",
       "      <th>3</th>\n",
       "      <td>Assam</td>\n",
       "      <td>332</td>\n",
       "    </tr>\n",
       "    <tr>\n",
       "      <th>4</th>\n",
       "      <td>Bihar</td>\n",
       "      <td>2785</td>\n",
       "    </tr>\n",
       "  </tbody>\n",
       "</table>\n",
       "</div>"
      ],
      "text/plain": [
       "                   Area_Name  CPA_-_Complaints_Received/Alleged\n",
       "0  Andaman & Nicobar Islands                                288\n",
       "1             Andhra Pradesh                              22635\n",
       "2          Arunachal Pradesh                                647\n",
       "3                      Assam                                332\n",
       "4                      Bihar                               2785"
      ]
     },
     "execution_count": 5,
     "metadata": {},
     "output_type": "execute_result"
    }
   ],
   "source": [
    "# sum all CPA_-_Complaints_Received/Alleged from 2001-2010 for each state respectively\n",
    "# total number of CPA received/alleged from 2001-2010 for each 35 states\n",
    "\n",
    "CPA = CPA_raw.groupby('Area_Name')['CPA_-_Complaints_Received/Alleged'].sum().reset_index()\n",
    "CPA.info()\n",
    "CPA.head()"
   ]
  },
  {
   "cell_type": "code",
   "execution_count": 6,
   "id": "be387375",
   "metadata": {},
   "outputs": [],
   "source": [
    "# renaming 'CPA_-_Complaints_Received/Alleged' to 'Complaints_Received/Alleged' for clarity\n",
    "\n",
    "CPA.rename(columns={'CPA_-_Complaints_Received/Alleged': 'Complaints_Received/Alleged'}, inplace=True)"
   ]
  },
  {
   "cell_type": "code",
   "execution_count": 7,
   "id": "9dd1a372",
   "metadata": {
    "scrolled": true
   },
   "outputs": [
    {
     "name": "stdout",
     "output_type": "stream",
     "text": [
      "<class 'pandas.core.frame.DataFrame'>\n",
      "RangeIndex: 9017 entries, 0 to 9016\n",
      "Data columns (total 10 columns):\n",
      " #   Column                                               Non-Null Count  Dtype \n",
      "---  ------                                               --------------  ----- \n",
      " 0   STATE/UT                                             9017 non-null   object\n",
      " 1   DISTRICT                                             9017 non-null   object\n",
      " 2   Year                                                 9017 non-null   int64 \n",
      " 3   Rape                                                 9017 non-null   int64 \n",
      " 4   Kidnapping and Abduction                             9017 non-null   int64 \n",
      " 5   Dowry Deaths                                         9017 non-null   int64 \n",
      " 6   Assault on women with intent to outrage her modesty  9017 non-null   int64 \n",
      " 7   Insult to modesty of Women                           9017 non-null   int64 \n",
      " 8   Cruelty by Husband or his Relatives                  9017 non-null   int64 \n",
      " 9   Importation of Girls                                 9017 non-null   int64 \n",
      "dtypes: int64(8), object(2)\n",
      "memory usage: 704.6+ KB\n"
     ]
    },
    {
     "data": {
      "text/html": [
       "<div>\n",
       "<style scoped>\n",
       "    .dataframe tbody tr th:only-of-type {\n",
       "        vertical-align: middle;\n",
       "    }\n",
       "\n",
       "    .dataframe tbody tr th {\n",
       "        vertical-align: top;\n",
       "    }\n",
       "\n",
       "    .dataframe thead th {\n",
       "        text-align: right;\n",
       "    }\n",
       "</style>\n",
       "<table border=\"1\" class=\"dataframe\">\n",
       "  <thead>\n",
       "    <tr style=\"text-align: right;\">\n",
       "      <th></th>\n",
       "      <th>STATE/UT</th>\n",
       "      <th>DISTRICT</th>\n",
       "      <th>Year</th>\n",
       "      <th>Rape</th>\n",
       "      <th>Kidnapping and Abduction</th>\n",
       "      <th>Dowry Deaths</th>\n",
       "      <th>Assault on women with intent to outrage her modesty</th>\n",
       "      <th>Insult to modesty of Women</th>\n",
       "      <th>Cruelty by Husband or his Relatives</th>\n",
       "      <th>Importation of Girls</th>\n",
       "    </tr>\n",
       "  </thead>\n",
       "  <tbody>\n",
       "    <tr>\n",
       "      <th>0</th>\n",
       "      <td>ANDHRA PRADESH</td>\n",
       "      <td>ADILABAD</td>\n",
       "      <td>2001</td>\n",
       "      <td>50</td>\n",
       "      <td>30</td>\n",
       "      <td>16</td>\n",
       "      <td>149</td>\n",
       "      <td>34</td>\n",
       "      <td>175</td>\n",
       "      <td>0</td>\n",
       "    </tr>\n",
       "    <tr>\n",
       "      <th>1</th>\n",
       "      <td>ANDHRA PRADESH</td>\n",
       "      <td>ANANTAPUR</td>\n",
       "      <td>2001</td>\n",
       "      <td>23</td>\n",
       "      <td>30</td>\n",
       "      <td>7</td>\n",
       "      <td>118</td>\n",
       "      <td>24</td>\n",
       "      <td>154</td>\n",
       "      <td>0</td>\n",
       "    </tr>\n",
       "    <tr>\n",
       "      <th>2</th>\n",
       "      <td>ANDHRA PRADESH</td>\n",
       "      <td>CHITTOOR</td>\n",
       "      <td>2001</td>\n",
       "      <td>27</td>\n",
       "      <td>34</td>\n",
       "      <td>14</td>\n",
       "      <td>112</td>\n",
       "      <td>83</td>\n",
       "      <td>186</td>\n",
       "      <td>0</td>\n",
       "    </tr>\n",
       "    <tr>\n",
       "      <th>3</th>\n",
       "      <td>ANDHRA PRADESH</td>\n",
       "      <td>CUDDAPAH</td>\n",
       "      <td>2001</td>\n",
       "      <td>20</td>\n",
       "      <td>20</td>\n",
       "      <td>17</td>\n",
       "      <td>126</td>\n",
       "      <td>38</td>\n",
       "      <td>57</td>\n",
       "      <td>0</td>\n",
       "    </tr>\n",
       "    <tr>\n",
       "      <th>4</th>\n",
       "      <td>ANDHRA PRADESH</td>\n",
       "      <td>EAST GODAVARI</td>\n",
       "      <td>2001</td>\n",
       "      <td>23</td>\n",
       "      <td>26</td>\n",
       "      <td>12</td>\n",
       "      <td>109</td>\n",
       "      <td>58</td>\n",
       "      <td>247</td>\n",
       "      <td>0</td>\n",
       "    </tr>\n",
       "  </tbody>\n",
       "</table>\n",
       "</div>"
      ],
      "text/plain": [
       "         STATE/UT       DISTRICT  Year  Rape  Kidnapping and Abduction  \\\n",
       "0  ANDHRA PRADESH       ADILABAD  2001    50                        30   \n",
       "1  ANDHRA PRADESH      ANANTAPUR  2001    23                        30   \n",
       "2  ANDHRA PRADESH       CHITTOOR  2001    27                        34   \n",
       "3  ANDHRA PRADESH       CUDDAPAH  2001    20                        20   \n",
       "4  ANDHRA PRADESH  EAST GODAVARI  2001    23                        26   \n",
       "\n",
       "   Dowry Deaths  Assault on women with intent to outrage her modesty  \\\n",
       "0            16                                                149     \n",
       "1             7                                                118     \n",
       "2            14                                                112     \n",
       "3            17                                                126     \n",
       "4            12                                                109     \n",
       "\n",
       "   Insult to modesty of Women  Cruelty by Husband or his Relatives  \\\n",
       "0                          34                                  175   \n",
       "1                          24                                  154   \n",
       "2                          83                                  186   \n",
       "3                          38                                   57   \n",
       "4                          58                                  247   \n",
       "\n",
       "   Importation of Girls  \n",
       "0                     0  \n",
       "1                     0  \n",
       "2                     0  \n",
       "3                     0  \n",
       "4                     0  "
      ]
     },
     "execution_count": 7,
     "metadata": {},
     "output_type": "execute_result"
    }
   ],
   "source": [
    "# <<crimes_against_women>>\n",
    "\n",
    "crimes_against_women.info()\n",
    "crimes_against_women.head()"
   ]
  },
  {
   "cell_type": "code",
   "execution_count": 8,
   "id": "0f5734eb",
   "metadata": {
    "scrolled": true
   },
   "outputs": [
    {
     "name": "stdout",
     "output_type": "stream",
     "text": [
      "<class 'pandas.core.frame.DataFrame'>\n",
      "RangeIndex: 9017 entries, 0 to 9016\n",
      "Data columns (total 3 columns):\n",
      " #   Column    Non-Null Count  Dtype \n",
      "---  ------    --------------  ----- \n",
      " 0   STATE/UT  9017 non-null   object\n",
      " 1   Year      9017 non-null   int64 \n",
      " 2   Rape      9017 non-null   int64 \n",
      "dtypes: int64(2), object(1)\n",
      "memory usage: 211.5+ KB\n"
     ]
    },
    {
     "data": {
      "text/html": [
       "<div>\n",
       "<style scoped>\n",
       "    .dataframe tbody tr th:only-of-type {\n",
       "        vertical-align: middle;\n",
       "    }\n",
       "\n",
       "    .dataframe tbody tr th {\n",
       "        vertical-align: top;\n",
       "    }\n",
       "\n",
       "    .dataframe thead th {\n",
       "        text-align: right;\n",
       "    }\n",
       "</style>\n",
       "<table border=\"1\" class=\"dataframe\">\n",
       "  <thead>\n",
       "    <tr style=\"text-align: right;\">\n",
       "      <th></th>\n",
       "      <th>STATE/UT</th>\n",
       "      <th>Year</th>\n",
       "      <th>Rape</th>\n",
       "    </tr>\n",
       "  </thead>\n",
       "  <tbody>\n",
       "    <tr>\n",
       "      <th>0</th>\n",
       "      <td>ANDHRA PRADESH</td>\n",
       "      <td>2001</td>\n",
       "      <td>50</td>\n",
       "    </tr>\n",
       "    <tr>\n",
       "      <th>1</th>\n",
       "      <td>ANDHRA PRADESH</td>\n",
       "      <td>2001</td>\n",
       "      <td>23</td>\n",
       "    </tr>\n",
       "    <tr>\n",
       "      <th>2</th>\n",
       "      <td>ANDHRA PRADESH</td>\n",
       "      <td>2001</td>\n",
       "      <td>27</td>\n",
       "    </tr>\n",
       "    <tr>\n",
       "      <th>3</th>\n",
       "      <td>ANDHRA PRADESH</td>\n",
       "      <td>2001</td>\n",
       "      <td>20</td>\n",
       "    </tr>\n",
       "    <tr>\n",
       "      <th>4</th>\n",
       "      <td>ANDHRA PRADESH</td>\n",
       "      <td>2001</td>\n",
       "      <td>23</td>\n",
       "    </tr>\n",
       "  </tbody>\n",
       "</table>\n",
       "</div>"
      ],
      "text/plain": [
       "         STATE/UT  Year  Rape\n",
       "0  ANDHRA PRADESH  2001    50\n",
       "1  ANDHRA PRADESH  2001    23\n",
       "2  ANDHRA PRADESH  2001    27\n",
       "3  ANDHRA PRADESH  2001    20\n",
       "4  ANDHRA PRADESH  2001    23"
      ]
     },
     "execution_count": 8,
     "metadata": {},
     "output_type": "execute_result"
    }
   ],
   "source": [
    "# Extract STATE/UT, Year, Rape Columns\n",
    "\n",
    "CAW_raw = crimes_against_women[['STATE/UT', 'Year', 'Rape']]\n",
    "CAW_raw.info()\n",
    "CAW_raw.head()"
   ]
  },
  {
   "cell_type": "code",
   "execution_count": 9,
   "id": "9f43957d",
   "metadata": {},
   "outputs": [
    {
     "name": "stderr",
     "output_type": "stream",
     "text": [
      "/var/folders/xn/2f71kzwn1vq6sh8m47knsc0m0000gn/T/ipykernel_27019/3267260704.py:3: SettingWithCopyWarning: \n",
      "A value is trying to be set on a copy of a slice from a DataFrame\n",
      "\n",
      "See the caveats in the documentation: https://pandas.pydata.org/pandas-docs/stable/user_guide/indexing.html#returning-a-view-versus-a-copy\n",
      "  CAW_raw.rename(columns={'Rape': 'Rape Reported'}, inplace=True)\n"
     ]
    }
   ],
   "source": [
    "# renaming 'Rape' to 'Rape Reported' for clarity\n",
    "\n",
    "CAW_raw.rename(columns={'Rape': 'Rape Reported'}, inplace=True)"
   ]
  },
  {
   "cell_type": "code",
   "execution_count": 10,
   "id": "665cb793",
   "metadata": {},
   "outputs": [
    {
     "name": "stdout",
     "output_type": "stream",
     "text": [
      "<class 'pandas.core.frame.DataFrame'>\n",
      "RangeIndex: 35 entries, 0 to 34\n",
      "Data columns (total 2 columns):\n",
      " #   Column         Non-Null Count  Dtype \n",
      "---  ------         --------------  ----- \n",
      " 0   STATE/UT       35 non-null     object\n",
      " 1   Rape Reported  35 non-null     int64 \n",
      "dtypes: int64(1), object(1)\n",
      "memory usage: 692.0+ bytes\n"
     ]
    },
    {
     "data": {
      "text/html": [
       "<div>\n",
       "<style scoped>\n",
       "    .dataframe tbody tr th:only-of-type {\n",
       "        vertical-align: middle;\n",
       "    }\n",
       "\n",
       "    .dataframe tbody tr th {\n",
       "        vertical-align: top;\n",
       "    }\n",
       "\n",
       "    .dataframe thead th {\n",
       "        text-align: right;\n",
       "    }\n",
       "</style>\n",
       "<table border=\"1\" class=\"dataframe\">\n",
       "  <thead>\n",
       "    <tr style=\"text-align: right;\">\n",
       "      <th></th>\n",
       "      <th>STATE/UT</th>\n",
       "      <th>Rape Reported</th>\n",
       "    </tr>\n",
       "  </thead>\n",
       "  <tbody>\n",
       "    <tr>\n",
       "      <th>0</th>\n",
       "      <td>A &amp; N ISLANDS</td>\n",
       "      <td>218</td>\n",
       "    </tr>\n",
       "    <tr>\n",
       "      <th>1</th>\n",
       "      <td>ANDHRA PRADESH</td>\n",
       "      <td>26958</td>\n",
       "    </tr>\n",
       "    <tr>\n",
       "      <th>2</th>\n",
       "      <td>ARUNACHAL PRADESH</td>\n",
       "      <td>1000</td>\n",
       "    </tr>\n",
       "    <tr>\n",
       "      <th>3</th>\n",
       "      <td>ASSAM</td>\n",
       "      <td>32356</td>\n",
       "    </tr>\n",
       "    <tr>\n",
       "      <th>4</th>\n",
       "      <td>BIHAR</td>\n",
       "      <td>26248</td>\n",
       "    </tr>\n",
       "  </tbody>\n",
       "</table>\n",
       "</div>"
      ],
      "text/plain": [
       "            STATE/UT  Rape Reported\n",
       "0      A & N ISLANDS            218\n",
       "1     ANDHRA PRADESH          26958\n",
       "2  ARUNACHAL PRADESH           1000\n",
       "3              ASSAM          32356\n",
       "4              BIHAR          26248"
      ]
     },
     "execution_count": 10,
     "metadata": {},
     "output_type": "execute_result"
    }
   ],
   "source": [
    "# sum all Rape reported from 2001-2010 for each state (sum all districts of state) respectively\n",
    "# total number of Rape reported from 2001-2010 for each 35 states\n",
    "\n",
    "CAW = CAW_raw.groupby('STATE/UT')['Rape Reported'].sum().reset_index()\n",
    "CAW.info()\n",
    "CAW.head()"
   ]
  },
  {
   "cell_type": "code",
   "execution_count": 11,
   "id": "1fb6868b",
   "metadata": {},
   "outputs": [
    {
     "name": "stdout",
     "output_type": "stream",
     "text": [
      "<class 'pandas.core.frame.DataFrame'>\n",
      "RangeIndex: 35 entries, 0 to 34\n",
      "Data columns (total 3 columns):\n",
      " #   Column                       Non-Null Count  Dtype \n",
      "---  ------                       --------------  ----- \n",
      " 0   Area_Name                    35 non-null     object\n",
      " 1   Complaints_Received/Alleged  35 non-null     int64 \n",
      " 2   Rape Reported                35 non-null     int64 \n",
      "dtypes: int64(2), object(1)\n",
      "memory usage: 972.0+ bytes\n"
     ]
    },
    {
     "data": {
      "text/html": [
       "<div>\n",
       "<style scoped>\n",
       "    .dataframe tbody tr th:only-of-type {\n",
       "        vertical-align: middle;\n",
       "    }\n",
       "\n",
       "    .dataframe tbody tr th {\n",
       "        vertical-align: top;\n",
       "    }\n",
       "\n",
       "    .dataframe thead th {\n",
       "        text-align: right;\n",
       "    }\n",
       "</style>\n",
       "<table border=\"1\" class=\"dataframe\">\n",
       "  <thead>\n",
       "    <tr style=\"text-align: right;\">\n",
       "      <th></th>\n",
       "      <th>Area_Name</th>\n",
       "      <th>Complaints_Received/Alleged</th>\n",
       "      <th>Rape Reported</th>\n",
       "    </tr>\n",
       "  </thead>\n",
       "  <tbody>\n",
       "    <tr>\n",
       "      <th>0</th>\n",
       "      <td>Andaman &amp; Nicobar Islands</td>\n",
       "      <td>288</td>\n",
       "      <td>218</td>\n",
       "    </tr>\n",
       "    <tr>\n",
       "      <th>1</th>\n",
       "      <td>Andhra Pradesh</td>\n",
       "      <td>22635</td>\n",
       "      <td>26958</td>\n",
       "    </tr>\n",
       "    <tr>\n",
       "      <th>2</th>\n",
       "      <td>Arunachal Pradesh</td>\n",
       "      <td>647</td>\n",
       "      <td>1000</td>\n",
       "    </tr>\n",
       "    <tr>\n",
       "      <th>3</th>\n",
       "      <td>Assam</td>\n",
       "      <td>332</td>\n",
       "      <td>32356</td>\n",
       "    </tr>\n",
       "    <tr>\n",
       "      <th>4</th>\n",
       "      <td>Bihar</td>\n",
       "      <td>2785</td>\n",
       "      <td>26248</td>\n",
       "    </tr>\n",
       "  </tbody>\n",
       "</table>\n",
       "</div>"
      ],
      "text/plain": [
       "                   Area_Name  Complaints_Received/Alleged  Rape Reported\n",
       "0  Andaman & Nicobar Islands                          288            218\n",
       "1             Andhra Pradesh                        22635          26958\n",
       "2          Arunachal Pradesh                          647           1000\n",
       "3                      Assam                          332          32356\n",
       "4                      Bihar                         2785          26248"
      ]
     },
     "execution_count": 11,
     "metadata": {},
     "output_type": "execute_result"
    }
   ],
   "source": [
    "# <<combining CPA & CAW into one dataframe>>\n",
    "\n",
    "\n",
    "CPA_CAW = pd.concat([CPA, CAW['Rape Reported']], axis=1)\n",
    "CPA_CAW.info()\n",
    "CPA_CAW.head()"
   ]
  },
  {
   "cell_type": "code",
   "execution_count": 13,
   "id": "ffe8d146",
   "metadata": {},
   "outputs": [
    {
     "name": "stdout",
     "output_type": "stream",
     "text": [
      "<class 'pandas.core.frame.DataFrame'>\n",
      "RangeIndex: 35 entries, 0 to 34\n",
      "Data columns (total 2 columns):\n",
      " #   Column                       Non-Null Count  Dtype\n",
      "---  ------                       --------------  -----\n",
      " 0   Complaints_Received/Alleged  35 non-null     int64\n",
      " 1   Rape Reported                35 non-null     int64\n",
      "dtypes: int64(2)\n",
      "memory usage: 692.0 bytes\n"
     ]
    },
    {
     "data": {
      "text/html": [
       "<div>\n",
       "<style scoped>\n",
       "    .dataframe tbody tr th:only-of-type {\n",
       "        vertical-align: middle;\n",
       "    }\n",
       "\n",
       "    .dataframe tbody tr th {\n",
       "        vertical-align: top;\n",
       "    }\n",
       "\n",
       "    .dataframe thead th {\n",
       "        text-align: right;\n",
       "    }\n",
       "</style>\n",
       "<table border=\"1\" class=\"dataframe\">\n",
       "  <thead>\n",
       "    <tr style=\"text-align: right;\">\n",
       "      <th></th>\n",
       "      <th>Complaints_Received/Alleged</th>\n",
       "      <th>Rape Reported</th>\n",
       "    </tr>\n",
       "  </thead>\n",
       "  <tbody>\n",
       "    <tr>\n",
       "      <th>0</th>\n",
       "      <td>288</td>\n",
       "      <td>218</td>\n",
       "    </tr>\n",
       "    <tr>\n",
       "      <th>1</th>\n",
       "      <td>22635</td>\n",
       "      <td>26958</td>\n",
       "    </tr>\n",
       "    <tr>\n",
       "      <th>2</th>\n",
       "      <td>647</td>\n",
       "      <td>1000</td>\n",
       "    </tr>\n",
       "    <tr>\n",
       "      <th>3</th>\n",
       "      <td>332</td>\n",
       "      <td>32356</td>\n",
       "    </tr>\n",
       "    <tr>\n",
       "      <th>4</th>\n",
       "      <td>2785</td>\n",
       "      <td>26248</td>\n",
       "    </tr>\n",
       "  </tbody>\n",
       "</table>\n",
       "</div>"
      ],
      "text/plain": [
       "   Complaints_Received/Alleged  Rape Reported\n",
       "0                          288            218\n",
       "1                        22635          26958\n",
       "2                          647           1000\n",
       "3                          332          32356\n",
       "4                         2785          26248"
      ]
     },
     "execution_count": 13,
     "metadata": {},
     "output_type": "execute_result"
    }
   ],
   "source": [
    "# drop Area_Name column which is now irrelevant as Complaints_Received/Alleged & Rape Reported are now corresponding in index\n",
    "\n",
    "CPA_CAW.drop(columns=['Area_Name'], inplace=True)\n",
    "CPA_CAW.info()\n",
    "CPA_CAW.head()"
   ]
  },
  {
   "cell_type": "markdown",
   "id": "2f78ce07",
   "metadata": {},
   "source": [
    "# Exploratory Analysis"
   ]
  },
  {
   "cell_type": "code",
   "execution_count": 19,
   "id": "47835558",
   "metadata": {},
   "outputs": [
    {
     "data": {
      "text/plain": [
       "<seaborn.axisgrid.JointGrid at 0x12c1e2090>"
      ]
     },
     "execution_count": 19,
     "metadata": {},
     "output_type": "execute_result"
    },
    {
     "data": {
      "image/png": "[encoded data removed]",
      "text/plain": [
       "<Figure size 600x600 with 3 Axes>"
      ]
     },
     "metadata": {},
     "output_type": "display_data"
    }
   ],
   "source": [
    "# Draw jointplot of Rape Reported against Complaints_Received/Alleged\n",
    "\n",
    "sb.jointplot(data = CPA_CAW, x = \"Complaints_Received/Alleged\", y = \"Rape Reported\", height = 6)"
   ]
  },
  {
   "cell_type": "code",
   "execution_count": 23,
   "id": "682e6a55",
   "metadata": {},
   "outputs": [
    {
     "name": "stdout",
     "output_type": "stream",
     "text": [
      "                             Complaints_Received/Alleged  Rape Reported\n",
      "Complaints_Received/Alleged                     1.000000       0.709832\n",
      "Rape Reported                                   0.709832       1.000000\n"
     ]
    },
    {
     "data": {
      "text/plain": [
       "<Axes: >"
      ]
     },
     "execution_count": 23,
     "metadata": {},
     "output_type": "execute_result"
    },
    {
     "data": {
      "image/png": "[encoded data removed]",
      "text/plain": [
       "<Figure size 640x480 with 2 Axes>"
      ]
     },
     "metadata": {},
     "output_type": "display_data"
    }
   ],
   "source": [
    "# calculate correlation between Rape Reported & Complaints_Received/Alleged\n",
    "\n",
    "print(CPA_CAW.corr())\n",
    "sb.heatmap(CPA_CAW.corr(), vmin = -1, vmax = 1, annot = True, fmt=\".2f\")"
   ]
  },
  {
   "cell_type": "markdown",
   "id": "c9a21b98",
   "metadata": {},
   "source": [
    "**Rape Reported & Complaints_Received/Alleged has a strong correlation of 0.71, indicating a strong linear relationship.**"
   ]
  },
  {
   "cell_type": "markdown",
   "id": "641d19c9",
   "metadata": {},
   "source": [
    "# Machine Learning"
   ]
  },
  {
   "cell_type": "markdown",
   "id": "18305b51",
   "metadata": {},
   "source": [
    "**Predictor Machine Learning Models: Which is best for predicting Rape Reported using Complaints_Received/Alleged?**"
   ]
  },
  {
   "cell_type": "markdown",
   "id": "52556526",
   "metadata": {},
   "source": [
    "**K-Nearest Neighbour (KNN) to predict Rape Reported using Complaints_Received/Alleged**\n",
    "\n",
    "Reponse Variable, **Y**: Rape Reported\n",
    "\n",
    "Predictor Variable, **X**: Complaints_Received/Alleged"
   ]
  },
  {
   "cell_type": "code",
   "execution_count": 31,
   "id": "6e4a1990",
   "metadata": {},
   "outputs": [
    {
     "name": "stdout",
     "output_type": "stream",
     "text": [
      "Mean Squared Error: 392774666.08746356\n"
     ]
    }
   ],
   "source": [
    "from sklearn.neighbors import KNeighborsRegressor\n",
    "from sklearn.model_selection import train_test_split\n",
    "from sklearn.metrics import mean_squared_error\n",
    "\n",
    "# Split the data into training and testing sets\n",
    "X_train, X_test, y_train, y_test = train_test_split(CPA_CAW['Complaints_Received/Alleged'], CPA_CAW['Rape Reported'], test_size=0.2, random_state=42)\n",
    "\n",
    "\n",
    "X_train = X_train.values.reshape(-1, 1)\n",
    "y_train = y_train.values.reshape(-1, 1)\n",
    "X_test = X_test.values.reshape(-1, 1)\n",
    "y_test = y_test.values.reshape(-1, 1)\n",
    "\n",
    "\n",
    "# Create KNN model\n",
    "#Grid Search with Cross-Validation to find optimal K\n",
    "from sklearn.model_selection import GridSearchCV\n",
    "\n",
    "# Define a range of K values to search\n",
    "param_grid = {'n_neighbors': range(1, 21)}\n",
    "\n",
    "# Perform grid search with cross-validation\n",
    "grid_search = GridSearchCV(estimator=KNeighborsRegressor(), param_grid=param_grid, cv=5)\n",
    "grid_search.fit(X_train, y_train)\n",
    "\n",
    "# Get the best K value\n",
    "best_k = grid_search.best_params_['n_neighbors']\n",
    "k = best_k  \n",
    "knn = KNeighborsRegressor(n_neighbors=k)\n",
    "\n",
    "# Train the model\n",
    "knn.fit(X_train, y_train)\n",
    "\n",
    "# Make predictions\n",
    "y_pred = knn.predict(X_test)\n",
    "\n",
    "# Evaluate the model\n",
    "mse = mean_squared_error(y_test, y_pred)\n",
    "print(\"Mean Squared Error:\", mse)"
   ]
  },
  {
   "cell_type": "code",
   "execution_count": 34,
   "id": "da9e57dd",
   "metadata": {},
   "outputs": [
    {
     "data": {
      "image/png": "[encoded data removed]",
      "text/plain": [
       "<Figure size 800x600 with 1 Axes>"
      ]
     },
     "metadata": {},
     "output_type": "display_data"
    }
   ],
   "source": [
    "# Scatterplot of Predicted & Actual Rape Reported for KNN\n",
    "\n",
    "plt.figure(figsize=(8, 6))\n",
    "plt.scatter(y_test, y_test, color='red', label='Actual', alpha=0.5)  # Plot actual values in red\n",
    "plt.scatter(y_test, y_pred, color='blue', label='Predicted', alpha=0.5)  # Plot predicted values in blue\n",
    "plt.plot([min(y_test), max(y_test)], [min(y_test), max(y_test)], color='green', linestyle='--', label='Perfect Prediction')  # Add perfect prediction line\n",
    "plt.xlabel('Actual Values')\n",
    "plt.ylabel('Predicted Values')\n",
    "plt.title('Actual vs. Predicted Values')\n",
    "plt.legend()\n",
    "plt.grid(True)\n",
    "plt.show()"
   ]
  },
  {
   "cell_type": "markdown",
   "id": "de5db244",
   "metadata": {},
   "source": [
    "**Ridge Regression to predict Rape Reported using Complaints_Received/Alleged**"
   ]
  },
  {
   "cell_type": "code",
   "execution_count": 35,
   "id": "d170e4d8",
   "metadata": {},
   "outputs": [
    {
     "name": "stdout",
     "output_type": "stream",
     "text": [
      "Mean Squared Error: 125688531.65739381\n"
     ]
    }
   ],
   "source": [
    "from sklearn.linear_model import Ridge\n",
    "\n",
    "# Initialize the Ridge regression model\n",
    "ridge_model = Ridge(alpha=1.0)  # You can adjust the regularization strength by changing the alpha parameter\n",
    "\n",
    "# Fit the model on the training data\n",
    "ridge_model.fit(X_train, y_train)\n",
    "\n",
    "# Make predictions on the test data\n",
    "y_pred = ridge_model.predict(X_test)\n",
    "\n",
    "# Calculate Mean Squared Error\n",
    "mse = mean_squared_error(y_test, y_pred)\n",
    "print(\"Mean Squared Error:\", mse)"
   ]
  },
  {
   "cell_type": "code",
   "execution_count": 37,
   "id": "61858651",
   "metadata": {},
   "outputs": [
    {
     "data": {
      "image/png": "[encoded data removed]",
      "text/plain": [
       "<Figure size 800x600 with 1 Axes>"
      ]
     },
     "metadata": {},
     "output_type": "display_data"
    }
   ],
   "source": [
    "# Scatterplot of Predicted & Actual Rape Reported for Ridge Regression\n",
    "\n",
    "plt.figure(figsize=(8, 6))\n",
    "plt.scatter(y_test, y_test, color='red', label='Actual', alpha=0.7)  # Plot actual values in red\n",
    "plt.scatter(y_test, y_pred, color='blue', label='Predicted', alpha=0.7)  # Plot predicted values in blue\n",
    "plt.plot([min(y_test), max(y_test)], [min(y_test), max(y_test)], color='green', linestyle='--', label='Perfect Prediction')  # Add perfect prediction line\n",
    "plt.xlabel('Actual Values')\n",
    "plt.ylabel('Predicted Values')\n",
    "plt.title('Actual vs Predicted Values (Ridge Regression)')\n",
    "plt.legend()\n",
    "plt.grid(True)\n",
    "plt.show()"
   ]
  },
  {
   "cell_type": "markdown",
   "id": "2e32375d",
   "metadata": {},
   "source": [
    "**Support Vector Machine (SVM) to predict Rape Reported using Complaints_Received/Alleged**"
   ]
  },
  {
   "cell_type": "code",
   "execution_count": 38,
   "id": "9f44705f",
   "metadata": {},
   "outputs": [
    {
     "name": "stdout",
     "output_type": "stream",
     "text": [
      "Mean Squared Error: 36334198.68137042\n"
     ]
    },
    {
     "name": "stderr",
     "output_type": "stream",
     "text": [
      "/Users/ppt/anaconda3/lib/python3.11/site-packages/sklearn/utils/validation.py:1143: DataConversionWarning: A column-vector y was passed when a 1d array was expected. Please change the shape of y to (n_samples, ), for example using ravel().\n",
      "  y = column_or_1d(y, warn=True)\n"
     ]
    }
   ],
   "source": [
    "from sklearn.svm import SVR\n",
    "\n",
    "# Initialize the SVR model\n",
    "svm_model = SVR(kernel='linear', C=1.0)  # You can adjust the kernel and regularization parameter (C) as needed\n",
    "\n",
    "# Fit the model on the training data\n",
    "svm_model.fit(X_train, y_train)\n",
    "\n",
    "# Make predictions on the test data\n",
    "y_pred = svm_model.predict(X_test)\n",
    "\n",
    "# Calculate Mean Squared Error\n",
    "mse = mean_squared_error(y_test, y_pred)\n",
    "print(\"Mean Squared Error:\", mse)"
   ]
  },
  {
   "cell_type": "code",
   "execution_count": 40,
   "id": "202d79c2",
   "metadata": {},
   "outputs": [
    {
     "data": {
      "image/png": "[encoded data removed]",
      "text/plain": [
       "<Figure size 800x600 with 1 Axes>"
      ]
     },
     "metadata": {},
     "output_type": "display_data"
    }
   ],
   "source": [
    "# Scatterplot of Predicted & Actual Rape Reported for SVM\n",
    "\n",
    "plt.figure(figsize=(8, 6))\n",
    "plt.scatter(y_test, y_test, color='red', label='Actual', alpha=0.7)  # Plot actual values in red\n",
    "plt.scatter(y_test, y_pred, color='blue', label='Predicted', alpha=0.7)  # Plot predicted values in blue\n",
    "plt.plot([min(y_test), max(y_test)], [min(y_test), max(y_test)], color='green', linestyle='--', label='Perfect Prediction')  # Add perfect prediction line\n",
    "plt.xlabel('Actual Values')\n",
    "plt.ylabel('Predicted Values')\n",
    "plt.title('Actual vs Predicted Values (SVM Regression)')\n",
    "plt.legend()\n",
    "plt.grid(True)\n",
    "plt.show()"
   ]
  },
  {
   "cell_type": "markdown",
   "id": "452650e1",
   "metadata": {},
   "source": [
    "# Conclusion"
   ]
  },
  {
   "cell_type": "markdown",
   "id": "f24ffc0d",
   "metadata": {},
   "source": [
    "**As Rape Reported & Complaints_Received/Alleged has a strong correlation of 0.71, indicating a strong linear relationship, Complaints_Received/Alleged is an important predictor of Rape Reported.**\n",
    "\n",
    "**Out of the three machine learning models implemented (KNN: Mean Squared Error - 392774666.08746356; Ridge Regression - Mean Squared Error: 125688531.65739381; SVM: Mean Squared Error - 36334198.68137042), SVM has the smallest Mean Squared Error, and is thus the best machine learning model in terms of predicting Rape Reported using Complaints_Received/Alleged.**"
   ]
  }
 ],
 "metadata": {
  "kernelspec": {
   "display_name": "Python 3 (ipykernel)",
   "language": "python",
   "name": "python3"
  },
  "language_info": {
   "codemirror_mode": {
    "name": "ipython",
    "version": 3
   },
   "file_extension": ".py",
   "mimetype": "text/x-python",
   "name": "python",
   "nbconvert_exporter": "python",
   "pygments_lexer": "ipython3",
   "version": "3.11.4"
  }
 },
 "nbformat": 4,
 "nbformat_minor": 5
}
